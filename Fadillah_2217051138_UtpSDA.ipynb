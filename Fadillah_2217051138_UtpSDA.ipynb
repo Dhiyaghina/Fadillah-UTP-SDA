{
  "nbformat": 4,
  "nbformat_minor": 0,
  "metadata": {
    "colab": {
      "provenance": []
    },
    "kernelspec": {
      "name": "python3",
      "display_name": "Python 3"
    },
    "language_info": {
      "name": "python"
    }
  },
  "cells": [
    {
      "cell_type": "code",
      "execution_count": null,
      "metadata": {
        "id": "BVHYM_zWJ_Ma"
      },
      "outputs": [],
      "source": [
        "import sys\n",
        "class Mahasiswa:\n",
        "    def __init__(self, nama, npm, kelas):\n",
        "        self.nama = nama\n",
        "        self.npm = npm\n",
        "        self.kelas = kelas\n",
        "    def anggota_kelompok(self):\n",
        "        print(\"Kelompok 13: \")\n",
        "        print(\"Nama\\t: \", self.nama)\n",
        "        print(\"NPM\\t: \", self.npm)\n",
        "        print(\"Kelas\\t: \", self.kelas)\n",
        "\n",
        "mahasiswa1 = Mahasiswa(\"Sheila Silvera Shandy\", \"2217051150\", \"A\")\n",
        "mahasiswa2 = Mahasiswa(\"Dhiya Ghina Hasri\", \"2217051068\", \"A\")\n",
        "mahasiswa3 = Mahasiswa(\"Fadillah\", \"2217051138\", \"A\")\n",
        "\n",
        "kelompok = [mahasiswa1, mahasiswa2, mahasiswa3]\n",
        "\n",
        "print(\"Anggota Kelompok 13\")\n",
        "for mhs in kelompok:\n",
        "    mhs.anggota_kelompok()\n",
        "\n",
        "\n",
        "print(\"------------Price list Bagshop------------\")\n",
        "pembeli = input(\"Masukkan Nama Pembeli : \")\n",
        "print (\"Nama pembeli : \", pembeli)\n",
        "harga = (25000,50000,150000,300000,500000)\n",
        "daftar_tas = [\n",
        "  {'model': 'Tas totebag', 'harga': harga[0]},\n",
        "  {'model': 'Tas sling bag', 'harga': harga[1]},\n",
        "  {'model': 'Tas backpack', 'harga': harga[2]},\n",
        "  {'model': 'Koper 18 inch', 'harga': harga[3]},\n",
        "  {'model': 'Koper 24 inch', 'harga': harga[4]},\n",
        "]\n",
        "\n",
        "# Buat fungsi untuk menampilkan daftar tas yang tersedia\n",
        "def tampilkan_daftar_tas():\n",
        "  for i, tas in enumerate(daftar_tas):\n",
        "    print(i+1, tas['model'], '\\t', tas['harga'])\n",
        "\n",
        "# Buat fungsi untuk menampilkan struk\n",
        "\n",
        "def sda(): \n",
        "    print(\"Daftar Tas yang Tersedia:\")\n",
        "    tampilkan_daftar_tas()\n",
        "    jalan=True\n",
        "    while(jalan==True):\n",
        "        pilihan = input(\"Masukkan nomor tas yang ingin dibeli (0 untuk keluar): \")\n",
        "        if pilihan == \"0\":\n",
        "         sys.exits(0)\n"
      ]
    }
  ]
}